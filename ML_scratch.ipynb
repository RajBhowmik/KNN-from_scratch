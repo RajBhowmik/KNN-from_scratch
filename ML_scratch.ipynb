{
 "cells": [
  {
   "cell_type": "markdown",
   "metadata": {},
   "source": [
    "## *K-nearest neighbor from scratch*"
   ]
  },
  {
   "cell_type": "code",
   "execution_count": 179,
   "metadata": {},
   "outputs": [],
   "source": [
    "import numpy as np\n",
    "import pandas as pd\n",
    "from scipy.stats import mode\n",
    "from sklearn.metrics import accuracy_score\n",
    "from collections import Counter\n",
    "from sklearn import datasets\n",
    "from sklearn.model_selection import train_test_split\n",
    "import matplotlib.pyplot as plt\n",
    "from matplotlib.colors import ListedColormap\n",
    "cmap = ListedColormap(['#FF0000','#00FF00','#0000FF'])"
   ]
  },
  {
   "cell_type": "markdown",
   "metadata": {},
   "source": [
    "## *We will be using the iris dataset for this implementation. Feel free to use any dataset for this.*\n",
    "\n",
    "## *Before jumping into the implementation let's visulaize the data, check the shape of training set and testing set.*\n",
    "## *Check the number of columns and rows, values the table holds.*\n",
    "## *Visualize the data in the form of a scatter plot to check the distribution.*"
   ]
  },
  {
   "cell_type": "code",
   "execution_count": null,
   "metadata": {},
   "outputs": [],
   "source": [
    "## Load the dataset from sklearn datset\n",
    "iris = datasets.load_iris()\n",
    "\n",
    "## Splitting the data into X and y\n",
    "X,y = iris.data,iris.target "
   ]
  },
  {
   "cell_type": "code",
   "execution_count": 181,
   "metadata": {},
   "outputs": [],
   "source": [
    "## train test the data from above X and Y\n",
    "\n",
    "X_train,X_test,y_train,y_test = train_test_split(X,y, test_size= 0.3, random_state=4342)"
   ]
  },
  {
   "cell_type": "code",
   "execution_count": 182,
   "metadata": {},
   "outputs": [
    {
     "data": {
      "image/png": "[encoded data removed]",
      "text/plain": [
       "<Figure size 720x432 with 1 Axes>"
      ]
     },
     "metadata": {
      "needs_background": "light"
     },
     "output_type": "display_data"
    }
   ],
   "source": [
    "## draw a scatter plot to check the distribution of the data\n",
    "\n",
    "plt.figure(figsize =(10,6))\n",
    "plt.scatter(X[:,0],X[:,1], c=y, cmap=cmap, edgecolor='k',s=20)\n",
    "plt.show()"
   ]
  },
  {
   "cell_type": "markdown",
   "metadata": {},
   "source": [
    "## *Scratch implementation*"
   ]
  },
  {
   "cell_type": "code",
   "execution_count": 184,
   "metadata": {},
   "outputs": [],
   "source": [
    "'''\n",
    "1. Selecting the distance metric to calculate the distance between the data points \n",
    "        i.e. Eucledian, manhattan,mahalanobis etc.\n",
    "\n",
    "2. Storing the distances in a numpy array and sort it in ascending order by preserving the indices. \n",
    "    (Numpy argsort method helps to achieve that)\n",
    "    \n",
    "3. Selecting the k nearest element from the sorted list.\n",
    "\n",
    "4. By performing majority voting we select the most common label for the test data point\n",
    "'''\n",
    "\n",
    "## A function to find the eucledian distance between our test data points and training data points\n",
    "def knn_distance(y,p1):\n",
    "    distance = np.sqrt(np.sum((y-p1)**2))\n",
    "    return distance\n",
    "\n",
    "def knn(x_train, y_train,point,k):\n",
    "    '''\n",
    "--> x_train = training points in our data\n",
    "--> y_train = the labels cooresponding to our training points\n",
    "--> point = the test data point/points, whose label we will determine\n",
    "--> k = number of nearest elements we want to select\n",
    "    '''\n",
    "    result=[] # final list for our test labels.\n",
    "    \n",
    "    for i in point:\n",
    "        \n",
    "        distance_list=[] # an empty list to append our calculated distance\n",
    "        \n",
    "        for j in range(len(x_train)): # looping over our training data points to find the distance.\n",
    "            distance = knn_distance(np.array(x_train[j,:]),i)\n",
    "            distance_list.append(distance)\n",
    "        distance_list = np.array(distance_list)\n",
    "        \n",
    "        ## numpy argsort will return the indices of the distances\n",
    "        distance_ascending = np.argsort(distance_list)[:k] ## numpy argsort will return the indices of the distances\n",
    "        \n",
    "        label = y_train[distance_ascending] ## as distance has the indices and if we put the indices in y, we get the correcsponding value.\n",
    "        \n",
    "        #Note: most common method from Counter is another concept by which we can find the most common label from a list.\n",
    "#         output_label = Counter(label).most_common(1)\n",
    "        \n",
    "#          Majority Voting voting concept is to find the most common element. Returns a list\n",
    "        major_label = mode(label)\n",
    "        major_label = major_label.mode[0]\n",
    "        result.append(major_label) ## print this to get an idea of the labels\n",
    "        \n",
    "    return result"
   ]
  },
  {
   "cell_type": "markdown",
   "metadata": {},
   "source": [
    "## *We are testing this on iris dataset.*"
   ]
  },
  {
   "cell_type": "code",
   "execution_count": 185,
   "metadata": {},
   "outputs": [],
   "source": [
    "predict = knn(X_train,y_train,X_test,7)"
   ]
  },
  {
   "cell_type": "code",
   "execution_count": 186,
   "metadata": {},
   "outputs": [
    {
     "name": "stdout",
     "output_type": "stream",
     "text": [
      "The accuracy score of our prediction: 0.9555555555555556\n"
     ]
    }
   ],
   "source": [
    "## Accuracy imported from sklearn\n",
    "print(\"The accuracy score of our prediction: {}\".format(accuracy_score(y_test,predict)))"
   ]
  },
  {
   "cell_type": "code",
   "execution_count": 187,
   "metadata": {},
   "outputs": [
    {
     "name": "stdout",
     "output_type": "stream",
     "text": [
      "The accuracy score of our prediction: 0.9555555555555556\n"
     ]
    }
   ],
   "source": [
    "##Accuracy from scratch, behind the hood what goes on.\n",
    "accuracy_scratch = np.sum(predict==y_test)/len(y_test)\n",
    "print(\"The accuracy score of our prediction: {}\".format(accuracy_scratch))"
   ]
  }
 ],
 "metadata": {
  "kernelspec": {
   "display_name": "Python 3",
   "language": "python",
   "name": "python3"
  },
  "language_info": {
   "codemirror_mode": {
    "name": "ipython",
    "version": 3
   },
   "file_extension": ".py",
   "mimetype": "text/x-python",
   "name": "python",
   "nbconvert_exporter": "python",
   "pygments_lexer": "ipython3",
   "version": "3.8.3"
  }
 },
 "nbformat": 4,
 "nbformat_minor": 4
}
